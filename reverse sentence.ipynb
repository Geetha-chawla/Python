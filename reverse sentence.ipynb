{
  "nbformat": 4,
  "nbformat_minor": 0,
  "metadata": {
    "colab": {
      "name": "Untitled10.ipynb",
      "provenance": [],
      "authorship_tag": "ABX9TyMMMLq9zNPNyTnvscQTAtG9",
      "include_colab_link": true
    },
    "kernelspec": {
      "name": "python3",
      "display_name": "Python 3"
    },
    "language_info": {
      "name": "python"
    }
  },
  "cells": [
    {
      "cell_type": "markdown",
      "metadata": {
        "id": "view-in-github",
        "colab_type": "text"
      },
      "source": [
        "<a href=\"https://colab.research.google.com/github/Geetha-chawla/Python/blob/main/reverse%20sentence.ipynb\" target=\"_parent\"><img src=\"https://colab.research.google.com/assets/colab-badge.svg\" alt=\"Open In Colab\"/></a>"
      ]
    },
    {
      "cell_type": "code",
      "metadata": {
        "colab": {
          "base_uri": "https://localhost:8080/"
        },
        "id": "71NR4gfIH57O",
        "outputId": "2ab9826e-5142-4640-d195-ad1df92c1bc7"
      },
      "source": [
        "a=(input(\"Enter Sentence : \"))\n",
        "b=a[::-1]\n",
        "print(\"Reverse Sentence\")\n",
        "print(\"\\n\",b)"
      ],
      "execution_count": 1,
      "outputs": [
        {
          "output_type": "stream",
          "text": [
            "Enter Sentence : geetha\n",
            "Reverse Sentence\n",
            "\n",
            " ahteeg\n"
          ],
          "name": "stdout"
        }
      ]
    }
  ]
}