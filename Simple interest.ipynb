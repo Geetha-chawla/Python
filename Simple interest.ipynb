{
  "nbformat": 4,
  "nbformat_minor": 0,
  "metadata": {
    "colab": {
      "name": "Untitled8.ipynb",
      "provenance": [],
      "authorship_tag": "ABX9TyOw4bkRIshPRq4D29bYSLn7",
      "include_colab_link": true
    },
    "kernelspec": {
      "name": "python3",
      "display_name": "Python 3"
    },
    "language_info": {
      "name": "python"
    }
  },
  "cells": [
    {
      "cell_type": "markdown",
      "metadata": {
        "id": "view-in-github",
        "colab_type": "text"
      },
      "source": [
        "<a href=\"https://colab.research.google.com/github/Geetha-chawla/Python/blob/main/Simple%20interest.ipynb\" target=\"_parent\"><img src=\"https://colab.research.google.com/assets/colab-badge.svg\" alt=\"Open In Colab\"/></a>"
      ]
    },
    {
      "cell_type": "code",
      "metadata": {
        "colab": {
          "base_uri": "https://localhost:8080/"
        },
        "id": "7bSAtSvgFJDr",
        "outputId": "64f529b1-562a-4e13-d662-27e3e7837969"
      },
      "source": [
        "p=1000\n",
        "t=2\n",
        "r=1\n",
        "SI=(p*t*r)/100\n",
        "print(\"simple interest is : \",SI)"
      ],
      "execution_count": 1,
      "outputs": [
        {
          "output_type": "stream",
          "text": [
            "simple interest is :  20.0\n"
          ],
          "name": "stdout"
        }
      ]
    }
  ]
}